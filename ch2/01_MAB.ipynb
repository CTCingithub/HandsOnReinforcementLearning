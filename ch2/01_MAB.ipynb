{
 "cells": [
  {
   "cell_type": "markdown",
   "metadata": {},
   "source": [
    "# 多臂老虎机问题"
   ]
  },
  {
   "cell_type": "markdown",
   "metadata": {},
   "source": [
    "## 1. 定义"
   ]
  },
  {
   "cell_type": "code",
   "execution_count": null,
   "metadata": {},
   "outputs": [],
   "source": [
    "import numpy as np\n",
    "\n",
    "\n",
    "class BernoulliBandit:\n",
    "    def __init__(self, K):\n",
    "        self.K = K  # 老虎机数量\n",
    "        self.probs = np.random.uniform(size=K)  # 每个老虎机的奖励概率\n",
    "        self.best_idx = np.argmax(self.probs)  # 最优老虎机的索引\n",
    "        self.best_prob = self.probs[self.best_idx]  # 最优老虎机的奖励概率\n",
    "\n",
    "    def step(self, k):\n",
    "        # 当玩家选择了k号拉杆后,根据拉动该老虎机的k号拉杆获得奖励的概率\n",
    "        # 返回1（获奖）或0（未获奖）\n",
    "        return 1 if np.random.rand() < self.probs[k] else 0"
   ]
  },
  {
   "cell_type": "markdown",
   "metadata": {},
   "source": [
    "## 2. 测试"
   ]
  },
  {
   "cell_type": "code",
   "execution_count": 3,
   "metadata": {},
   "outputs": [
    {
     "data": {
      "text/plain": [
       "array([0.5488135 , 0.71518937, 0.60276338, 0.54488318, 0.4236548 ])"
      ]
     },
     "execution_count": 3,
     "metadata": {},
     "output_type": "execute_result"
    }
   ],
   "source": [
    "np.random.seed(0)\n",
    "K = 5\n",
    "bandit_5_arm = BernoulliBandit(K)\n",
    "bandit_5_arm.probs"
   ]
  }
 ],
 "metadata": {
  "kernelspec": {
   "display_name": "HandRL",
   "language": "python",
   "name": "python3"
  },
  "language_info": {
   "codemirror_mode": {
    "name": "ipython",
    "version": 3
   },
   "file_extension": ".py",
   "mimetype": "text/x-python",
   "name": "python",
   "nbconvert_exporter": "python",
   "pygments_lexer": "ipython3",
   "version": "3.10.16"
  }
 },
 "nbformat": 4,
 "nbformat_minor": 2
}
